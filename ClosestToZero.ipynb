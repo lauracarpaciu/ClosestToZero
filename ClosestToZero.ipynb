{
 "cells": [
  {
   "cell_type": "code",
   "execution_count": 68,
   "metadata": {},
   "outputs": [],
   "source": [
    "def closest_to_zero(numbers):\n",
    "    numbers = list(map(int, input().split()))\n",
    "\n",
    "    if len(numbers)==0:\n",
    "        return 0;\n",
    "    \n",
    "    closest = numbers[0];\n",
    "\n",
    "    for i in range(0,len(numbers)):\n",
    "        number = numbers[i]\n",
    "        absNumber= abs(number)\n",
    "        absClosest = abs(closest)\n",
    "\n",
    "        if absNumber < absClosest:        \n",
    "            closest = number\n",
    "        elif (absNumber == absClosest):\n",
    "            closest = number\n",
    "    \n",
    "\n",
    "\n",
    "    return closest;"
   ]
  },
  {
   "cell_type": "code",
   "execution_count": 69,
   "metadata": {},
   "outputs": [
    {
     "data": {
      "text/plain": [
       "-2"
      ]
     },
     "execution_count": 69,
     "metadata": {},
     "output_type": "execute_result"
    }
   ],
   "source": [
    "# items = [7,-10, 13, 8, 4, -7.2,-12,-3.7,3.5,-9.6, 6.5,-1.7, -6.2]\n",
    "items = [5, 6, 7, 9 , 2, - 2];\n",
    "# items=[]\n",
    "closestToZero(items)\n",
    "    "
   ]
  },
  {
   "cell_type": "code",
   "execution_count": 70,
   "metadata": {},
   "outputs": [
    {
     "name": "stdout",
     "output_type": "stream",
     "text": [
      "9.2\n"
     ]
    }
   ],
   "source": [
    "temp = [9.0, 8.8, 8.9 , 9.2 , 9.0]\n",
    "\n",
    "def maximum(numbers, max = - 999999999):\n",
    " \n",
    "    for num in numbers:\n",
    "         if num < max:\n",
    "            max = num\n",
    "\n",
    "    return max\n",
    "\n",
    "print(max(temp))"
   ]
  },
  {
   "cell_type": "code",
   "execution_count": null,
   "metadata": {},
   "outputs": [],
   "source": []
  }
 ],
 "metadata": {
  "kernelspec": {
   "display_name": "Python 3",
   "language": "python",
   "name": "python3"
  },
  "language_info": {
   "codemirror_mode": {
    "name": "ipython",
    "version": 3
   },
   "file_extension": ".py",
   "mimetype": "text/x-python",
   "name": "python",
   "nbconvert_exporter": "python",
   "pygments_lexer": "ipython3",
   "version": "3.8.5"
  }
 },
 "nbformat": 4,
 "nbformat_minor": 4
}
